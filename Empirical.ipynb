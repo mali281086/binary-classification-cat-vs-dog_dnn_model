{
 "cells": [
  {
   "cell_type": "code",
   "execution_count": null,
   "id": "e62fe1e9",
   "metadata": {},
   "outputs": [],
   "source": [
    "def evaluate_model(parameters, X_val, Y_val):\n",
    "    AL, _ = L_model_forward(X_val, parameters, 'tanh')\n",
    "    cost = compute_cost(AL, Y_val)\n",
    "    predictions = (AL > 0.5)\n",
    "    accuracy = np.mean(predictions == Y_val)\n",
    "    return cost, accuracy\n",
    "\n",
    "# Example architectures to try\n",
    "architectures = [\n",
    "    [2, 3, 2],      # 3 hidden layers\n",
    "    [10, 5],        # 2 hidden layers\n",
    "    [8, 16, 8],   # deeper network\n",
    "]\n",
    "\n",
    "results = []\n",
    "\n",
    "for arch in architectures:\n",
    "    print(f\"\\nTraining architecture: {arch}\")\n",
    "    \n",
    "    params = nn_model(X,\n",
    "                      Y,\n",
    "                      layers_dims=[X.shape[0]] + arch + [1],\n",
    "                      method='tanh',\n",
    "                      learning_rate=0.0075,\n",
    "                      num_iterations=5000,\n",
    "                      print_cost=False)\n",
    "    \n",
    "    cost, acc = evaluate_model(params, X, Y)\n",
    "    \n",
    "    results.append({\n",
    "        'architecture': arch,\n",
    "        'cost': cost,\n",
    "        'accuracy': acc,\n",
    "        'parameters': params\n",
    "    })\n",
    "\n",
    "# Sort results to find best\n",
    "best = sorted(results, key=lambda x: x['cost'])[0]\n",
    "\n",
    "print(\"\\nBest Architecture:\")\n",
    "print(\"Structure:\", best['architecture'])\n",
    "print(\"Validation Cost:\", best['cost'])\n",
    "print(\"Validation Accuracy:\", best['accuracy'])\n"
   ]
  }
 ],
 "metadata": {
  "language_info": {
   "name": "python"
  }
 },
 "nbformat": 4,
 "nbformat_minor": 5
}
